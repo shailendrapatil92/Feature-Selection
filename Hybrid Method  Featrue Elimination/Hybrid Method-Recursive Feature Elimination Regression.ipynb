{
 "cells": [
  {
   "cell_type": "markdown",
   "metadata": {},
   "source": [
    "# Hybrid Method-Recursive Feature Elimination Regression"
   ]
  },
  {
   "cell_type": "code",
   "execution_count": 1,
   "metadata": {
    "collapsed": true
   },
   "outputs": [],
   "source": [
    "import pandas as pd\n",
    "import numpy as np\n",
    "import matplotlib.pyplot as plt\n",
    "%matplotlib inline\n",
    "import seaborn as sns"
   ]
  },
  {
   "cell_type": "code",
   "execution_count": 2,
   "metadata": {},
   "outputs": [
    {
     "data": {
      "text/plain": [
       "(1460, 81)"
      ]
     },
     "execution_count": 2,
     "metadata": {},
     "output_type": "execute_result"
    }
   ],
   "source": [
    "data=pd.read_csv('/Users/shailendrapatil/Fall2017/Machine Learning A-Z Template Folder/Projects/House Price Advanced Regression Techniques/train.csv')\n",
    "data.shape"
   ]
  },
  {
   "cell_type": "code",
   "execution_count": 3,
   "metadata": {},
   "outputs": [
    {
     "data": {
      "text/html": [
       "<div>\n",
       "<style scoped>\n",
       "    .dataframe tbody tr th:only-of-type {\n",
       "        vertical-align: middle;\n",
       "    }\n",
       "\n",
       "    .dataframe tbody tr th {\n",
       "        vertical-align: top;\n",
       "    }\n",
       "\n",
       "    .dataframe thead th {\n",
       "        text-align: right;\n",
       "    }\n",
       "</style>\n",
       "<table border=\"1\" class=\"dataframe\">\n",
       "  <thead>\n",
       "    <tr style=\"text-align: right;\">\n",
       "      <th></th>\n",
       "      <th>Id</th>\n",
       "      <th>MSSubClass</th>\n",
       "      <th>MSZoning</th>\n",
       "      <th>LotFrontage</th>\n",
       "      <th>LotArea</th>\n",
       "      <th>Street</th>\n",
       "      <th>Alley</th>\n",
       "      <th>LotShape</th>\n",
       "      <th>LandContour</th>\n",
       "      <th>Utilities</th>\n",
       "      <th>...</th>\n",
       "      <th>PoolArea</th>\n",
       "      <th>PoolQC</th>\n",
       "      <th>Fence</th>\n",
       "      <th>MiscFeature</th>\n",
       "      <th>MiscVal</th>\n",
       "      <th>MoSold</th>\n",
       "      <th>YrSold</th>\n",
       "      <th>SaleType</th>\n",
       "      <th>SaleCondition</th>\n",
       "      <th>SalePrice</th>\n",
       "    </tr>\n",
       "  </thead>\n",
       "  <tbody>\n",
       "    <tr>\n",
       "      <th>0</th>\n",
       "      <td>1</td>\n",
       "      <td>60</td>\n",
       "      <td>RL</td>\n",
       "      <td>65.0</td>\n",
       "      <td>8450</td>\n",
       "      <td>Pave</td>\n",
       "      <td>NaN</td>\n",
       "      <td>Reg</td>\n",
       "      <td>Lvl</td>\n",
       "      <td>AllPub</td>\n",
       "      <td>...</td>\n",
       "      <td>0</td>\n",
       "      <td>NaN</td>\n",
       "      <td>NaN</td>\n",
       "      <td>NaN</td>\n",
       "      <td>0</td>\n",
       "      <td>2</td>\n",
       "      <td>2008</td>\n",
       "      <td>WD</td>\n",
       "      <td>Normal</td>\n",
       "      <td>208500</td>\n",
       "    </tr>\n",
       "    <tr>\n",
       "      <th>1</th>\n",
       "      <td>2</td>\n",
       "      <td>20</td>\n",
       "      <td>RL</td>\n",
       "      <td>80.0</td>\n",
       "      <td>9600</td>\n",
       "      <td>Pave</td>\n",
       "      <td>NaN</td>\n",
       "      <td>Reg</td>\n",
       "      <td>Lvl</td>\n",
       "      <td>AllPub</td>\n",
       "      <td>...</td>\n",
       "      <td>0</td>\n",
       "      <td>NaN</td>\n",
       "      <td>NaN</td>\n",
       "      <td>NaN</td>\n",
       "      <td>0</td>\n",
       "      <td>5</td>\n",
       "      <td>2007</td>\n",
       "      <td>WD</td>\n",
       "      <td>Normal</td>\n",
       "      <td>181500</td>\n",
       "    </tr>\n",
       "    <tr>\n",
       "      <th>2</th>\n",
       "      <td>3</td>\n",
       "      <td>60</td>\n",
       "      <td>RL</td>\n",
       "      <td>68.0</td>\n",
       "      <td>11250</td>\n",
       "      <td>Pave</td>\n",
       "      <td>NaN</td>\n",
       "      <td>IR1</td>\n",
       "      <td>Lvl</td>\n",
       "      <td>AllPub</td>\n",
       "      <td>...</td>\n",
       "      <td>0</td>\n",
       "      <td>NaN</td>\n",
       "      <td>NaN</td>\n",
       "      <td>NaN</td>\n",
       "      <td>0</td>\n",
       "      <td>9</td>\n",
       "      <td>2008</td>\n",
       "      <td>WD</td>\n",
       "      <td>Normal</td>\n",
       "      <td>223500</td>\n",
       "    </tr>\n",
       "    <tr>\n",
       "      <th>3</th>\n",
       "      <td>4</td>\n",
       "      <td>70</td>\n",
       "      <td>RL</td>\n",
       "      <td>60.0</td>\n",
       "      <td>9550</td>\n",
       "      <td>Pave</td>\n",
       "      <td>NaN</td>\n",
       "      <td>IR1</td>\n",
       "      <td>Lvl</td>\n",
       "      <td>AllPub</td>\n",
       "      <td>...</td>\n",
       "      <td>0</td>\n",
       "      <td>NaN</td>\n",
       "      <td>NaN</td>\n",
       "      <td>NaN</td>\n",
       "      <td>0</td>\n",
       "      <td>2</td>\n",
       "      <td>2006</td>\n",
       "      <td>WD</td>\n",
       "      <td>Abnorml</td>\n",
       "      <td>140000</td>\n",
       "    </tr>\n",
       "    <tr>\n",
       "      <th>4</th>\n",
       "      <td>5</td>\n",
       "      <td>60</td>\n",
       "      <td>RL</td>\n",
       "      <td>84.0</td>\n",
       "      <td>14260</td>\n",
       "      <td>Pave</td>\n",
       "      <td>NaN</td>\n",
       "      <td>IR1</td>\n",
       "      <td>Lvl</td>\n",
       "      <td>AllPub</td>\n",
       "      <td>...</td>\n",
       "      <td>0</td>\n",
       "      <td>NaN</td>\n",
       "      <td>NaN</td>\n",
       "      <td>NaN</td>\n",
       "      <td>0</td>\n",
       "      <td>12</td>\n",
       "      <td>2008</td>\n",
       "      <td>WD</td>\n",
       "      <td>Normal</td>\n",
       "      <td>250000</td>\n",
       "    </tr>\n",
       "  </tbody>\n",
       "</table>\n",
       "<p>5 rows × 81 columns</p>\n",
       "</div>"
      ],
      "text/plain": [
       "   Id  MSSubClass MSZoning  LotFrontage  LotArea Street Alley LotShape  \\\n",
       "0   1          60       RL         65.0     8450   Pave   NaN      Reg   \n",
       "1   2          20       RL         80.0     9600   Pave   NaN      Reg   \n",
       "2   3          60       RL         68.0    11250   Pave   NaN      IR1   \n",
       "3   4          70       RL         60.0     9550   Pave   NaN      IR1   \n",
       "4   5          60       RL         84.0    14260   Pave   NaN      IR1   \n",
       "\n",
       "  LandContour Utilities    ...     PoolArea PoolQC Fence MiscFeature MiscVal  \\\n",
       "0         Lvl    AllPub    ...            0    NaN   NaN         NaN       0   \n",
       "1         Lvl    AllPub    ...            0    NaN   NaN         NaN       0   \n",
       "2         Lvl    AllPub    ...            0    NaN   NaN         NaN       0   \n",
       "3         Lvl    AllPub    ...            0    NaN   NaN         NaN       0   \n",
       "4         Lvl    AllPub    ...            0    NaN   NaN         NaN       0   \n",
       "\n",
       "  MoSold YrSold  SaleType  SaleCondition  SalePrice  \n",
       "0      2   2008        WD         Normal     208500  \n",
       "1      5   2007        WD         Normal     181500  \n",
       "2      9   2008        WD         Normal     223500  \n",
       "3      2   2006        WD        Abnorml     140000  \n",
       "4     12   2008        WD         Normal     250000  \n",
       "\n",
       "[5 rows x 81 columns]"
      ]
     },
     "execution_count": 3,
     "metadata": {},
     "output_type": "execute_result"
    }
   ],
   "source": [
    "data.head()"
   ]
  },
  {
   "cell_type": "code",
   "execution_count": 4,
   "metadata": {},
   "outputs": [
    {
     "data": {
      "text/plain": [
       "(1460, 38)"
      ]
     },
     "execution_count": 4,
     "metadata": {},
     "output_type": "execute_result"
    }
   ],
   "source": [
    "numerics = ['int16', 'int32', 'int64', 'float16', 'float32', 'float64']\n",
    "numerical_vars = list(data.select_dtypes(include=numerics).columns)\n",
    "data = data[numerical_vars]\n",
    "data.shape"
   ]
  },
  {
   "cell_type": "code",
   "execution_count": 5,
   "metadata": {},
   "outputs": [
    {
     "data": {
      "text/html": [
       "<div>\n",
       "<style scoped>\n",
       "    .dataframe tbody tr th:only-of-type {\n",
       "        vertical-align: middle;\n",
       "    }\n",
       "\n",
       "    .dataframe tbody tr th {\n",
       "        vertical-align: top;\n",
       "    }\n",
       "\n",
       "    .dataframe thead th {\n",
       "        text-align: right;\n",
       "    }\n",
       "</style>\n",
       "<table border=\"1\" class=\"dataframe\">\n",
       "  <thead>\n",
       "    <tr style=\"text-align: right;\">\n",
       "      <th></th>\n",
       "      <th>Id</th>\n",
       "      <th>MSSubClass</th>\n",
       "      <th>LotFrontage</th>\n",
       "      <th>LotArea</th>\n",
       "      <th>OverallQual</th>\n",
       "      <th>OverallCond</th>\n",
       "      <th>YearBuilt</th>\n",
       "      <th>YearRemodAdd</th>\n",
       "      <th>MasVnrArea</th>\n",
       "      <th>BsmtFinSF1</th>\n",
       "      <th>...</th>\n",
       "      <th>WoodDeckSF</th>\n",
       "      <th>OpenPorchSF</th>\n",
       "      <th>EnclosedPorch</th>\n",
       "      <th>3SsnPorch</th>\n",
       "      <th>ScreenPorch</th>\n",
       "      <th>PoolArea</th>\n",
       "      <th>MiscVal</th>\n",
       "      <th>MoSold</th>\n",
       "      <th>YrSold</th>\n",
       "      <th>SalePrice</th>\n",
       "    </tr>\n",
       "  </thead>\n",
       "  <tbody>\n",
       "    <tr>\n",
       "      <th>0</th>\n",
       "      <td>1</td>\n",
       "      <td>60</td>\n",
       "      <td>65.0</td>\n",
       "      <td>8450</td>\n",
       "      <td>7</td>\n",
       "      <td>5</td>\n",
       "      <td>2003</td>\n",
       "      <td>2003</td>\n",
       "      <td>196.0</td>\n",
       "      <td>706</td>\n",
       "      <td>...</td>\n",
       "      <td>0</td>\n",
       "      <td>61</td>\n",
       "      <td>0</td>\n",
       "      <td>0</td>\n",
       "      <td>0</td>\n",
       "      <td>0</td>\n",
       "      <td>0</td>\n",
       "      <td>2</td>\n",
       "      <td>2008</td>\n",
       "      <td>208500</td>\n",
       "    </tr>\n",
       "    <tr>\n",
       "      <th>1</th>\n",
       "      <td>2</td>\n",
       "      <td>20</td>\n",
       "      <td>80.0</td>\n",
       "      <td>9600</td>\n",
       "      <td>6</td>\n",
       "      <td>8</td>\n",
       "      <td>1976</td>\n",
       "      <td>1976</td>\n",
       "      <td>0.0</td>\n",
       "      <td>978</td>\n",
       "      <td>...</td>\n",
       "      <td>298</td>\n",
       "      <td>0</td>\n",
       "      <td>0</td>\n",
       "      <td>0</td>\n",
       "      <td>0</td>\n",
       "      <td>0</td>\n",
       "      <td>0</td>\n",
       "      <td>5</td>\n",
       "      <td>2007</td>\n",
       "      <td>181500</td>\n",
       "    </tr>\n",
       "    <tr>\n",
       "      <th>2</th>\n",
       "      <td>3</td>\n",
       "      <td>60</td>\n",
       "      <td>68.0</td>\n",
       "      <td>11250</td>\n",
       "      <td>7</td>\n",
       "      <td>5</td>\n",
       "      <td>2001</td>\n",
       "      <td>2002</td>\n",
       "      <td>162.0</td>\n",
       "      <td>486</td>\n",
       "      <td>...</td>\n",
       "      <td>0</td>\n",
       "      <td>42</td>\n",
       "      <td>0</td>\n",
       "      <td>0</td>\n",
       "      <td>0</td>\n",
       "      <td>0</td>\n",
       "      <td>0</td>\n",
       "      <td>9</td>\n",
       "      <td>2008</td>\n",
       "      <td>223500</td>\n",
       "    </tr>\n",
       "    <tr>\n",
       "      <th>3</th>\n",
       "      <td>4</td>\n",
       "      <td>70</td>\n",
       "      <td>60.0</td>\n",
       "      <td>9550</td>\n",
       "      <td>7</td>\n",
       "      <td>5</td>\n",
       "      <td>1915</td>\n",
       "      <td>1970</td>\n",
       "      <td>0.0</td>\n",
       "      <td>216</td>\n",
       "      <td>...</td>\n",
       "      <td>0</td>\n",
       "      <td>35</td>\n",
       "      <td>272</td>\n",
       "      <td>0</td>\n",
       "      <td>0</td>\n",
       "      <td>0</td>\n",
       "      <td>0</td>\n",
       "      <td>2</td>\n",
       "      <td>2006</td>\n",
       "      <td>140000</td>\n",
       "    </tr>\n",
       "    <tr>\n",
       "      <th>4</th>\n",
       "      <td>5</td>\n",
       "      <td>60</td>\n",
       "      <td>84.0</td>\n",
       "      <td>14260</td>\n",
       "      <td>8</td>\n",
       "      <td>5</td>\n",
       "      <td>2000</td>\n",
       "      <td>2000</td>\n",
       "      <td>350.0</td>\n",
       "      <td>655</td>\n",
       "      <td>...</td>\n",
       "      <td>192</td>\n",
       "      <td>84</td>\n",
       "      <td>0</td>\n",
       "      <td>0</td>\n",
       "      <td>0</td>\n",
       "      <td>0</td>\n",
       "      <td>0</td>\n",
       "      <td>12</td>\n",
       "      <td>2008</td>\n",
       "      <td>250000</td>\n",
       "    </tr>\n",
       "  </tbody>\n",
       "</table>\n",
       "<p>5 rows × 38 columns</p>\n",
       "</div>"
      ],
      "text/plain": [
       "   Id  MSSubClass  LotFrontage  LotArea  OverallQual  OverallCond  YearBuilt  \\\n",
       "0   1          60         65.0     8450            7            5       2003   \n",
       "1   2          20         80.0     9600            6            8       1976   \n",
       "2   3          60         68.0    11250            7            5       2001   \n",
       "3   4          70         60.0     9550            7            5       1915   \n",
       "4   5          60         84.0    14260            8            5       2000   \n",
       "\n",
       "   YearRemodAdd  MasVnrArea  BsmtFinSF1    ...      WoodDeckSF  OpenPorchSF  \\\n",
       "0          2003       196.0         706    ...               0           61   \n",
       "1          1976         0.0         978    ...             298            0   \n",
       "2          2002       162.0         486    ...               0           42   \n",
       "3          1970         0.0         216    ...               0           35   \n",
       "4          2000       350.0         655    ...             192           84   \n",
       "\n",
       "   EnclosedPorch  3SsnPorch  ScreenPorch  PoolArea  MiscVal  MoSold  YrSold  \\\n",
       "0              0          0            0         0        0       2    2008   \n",
       "1              0          0            0         0        0       5    2007   \n",
       "2              0          0            0         0        0       9    2008   \n",
       "3            272          0            0         0        0       2    2006   \n",
       "4              0          0            0         0        0      12    2008   \n",
       "\n",
       "   SalePrice  \n",
       "0     208500  \n",
       "1     181500  \n",
       "2     223500  \n",
       "3     140000  \n",
       "4     250000  \n",
       "\n",
       "[5 rows x 38 columns]"
      ]
     },
     "execution_count": 5,
     "metadata": {},
     "output_type": "execute_result"
    }
   ],
   "source": [
    "data.head()"
   ]
  },
  {
   "cell_type": "code",
   "execution_count": 6,
   "metadata": {
    "collapsed": true
   },
   "outputs": [],
   "source": [
    "from sklearn.model_selection import train_test_split"
   ]
  },
  {
   "cell_type": "code",
   "execution_count": 7,
   "metadata": {},
   "outputs": [
    {
     "name": "stdout",
     "output_type": "stream",
     "text": [
      "(1022, 36) (1022,)\n",
      "(438, 36) (438,)\n"
     ]
    }
   ],
   "source": [
    "X_train, X_test, y_train, y_test = train_test_split(data.drop(labels=['SalePrice', 'Id'], axis=1),\n",
    "                                                    data['SalePrice'],\n",
    "                                                    test_size=0.3,\n",
    "                                                    random_state=0)\n",
    "\n",
    "print(X_train.shape,y_train.shape)\n",
    "print(X_test.shape,y_test.shape)"
   ]
  },
  {
   "cell_type": "code",
   "execution_count": 8,
   "metadata": {
    "collapsed": true
   },
   "outputs": [],
   "source": [
    "seed_val = 1000000000\n",
    "np.random.seed(seed_val)"
   ]
  },
  {
   "cell_type": "code",
   "execution_count": 9,
   "metadata": {
    "collapsed": true
   },
   "outputs": [],
   "source": [
    "import xgboost as xgb"
   ]
  },
  {
   "cell_type": "code",
   "execution_count": 10,
   "metadata": {
    "collapsed": true
   },
   "outputs": [],
   "source": [
    "from sklearn.metrics import r2_score"
   ]
  },
  {
   "cell_type": "markdown",
   "metadata": {},
   "source": [
    "#### the first step of this procedure consists in building a machine learning algorithm using all the available features and then determine the importance of the features according to the algorithm"
   ]
  },
  {
   "cell_type": "code",
   "execution_count": 11,
   "metadata": {
    "collapsed": true
   },
   "outputs": [],
   "source": [
    "model_all_features = xgb.XGBRegressor(\n",
    "    nthread=10, max_depth=4, n_estimators=500, learning_rate=0.05,n_jobs=-1)"
   ]
  },
  {
   "cell_type": "code",
   "execution_count": 12,
   "metadata": {},
   "outputs": [
    {
     "data": {
      "text/plain": [
       "XGBRegressor(base_score=0.5, booster='gbtree', colsample_bylevel=1,\n",
       "       colsample_bytree=1, gamma=0, learning_rate=0.05, max_delta_step=0,\n",
       "       max_depth=4, min_child_weight=1, missing=None, n_estimators=500,\n",
       "       n_jobs=-1, nthread=10, objective='reg:linear', random_state=0,\n",
       "       reg_alpha=0, reg_lambda=1, scale_pos_weight=1, seed=None,\n",
       "       silent=True, subsample=1)"
      ]
     },
     "execution_count": 12,
     "metadata": {},
     "output_type": "execute_result"
    }
   ],
   "source": [
    "model_all_features.fit(X_train, y_train)"
   ]
  },
  {
   "cell_type": "markdown",
   "metadata": {},
   "source": [
    "Calculate R2"
   ]
  },
  {
   "cell_type": "code",
   "execution_count": 13,
   "metadata": {},
   "outputs": [
    {
     "name": "stdout",
     "output_type": "stream",
     "text": [
      "Test all features xgb R2 = 0.818551\n"
     ]
    }
   ],
   "source": [
    "y_pred_test = model_all_features.predict(X_test)\n",
    "r2_score_all = r2_score(y_test, y_pred_test)\n",
    "print('Test all features xgb R2 = %f' % (r2_score_all))"
   ]
  },
  {
   "cell_type": "code",
   "execution_count": 14,
   "metadata": {},
   "outputs": [
    {
     "data": {
      "text/plain": [
       "<matplotlib.axes._subplots.AxesSubplot at 0x10f8cc978>"
      ]
     },
     "execution_count": 14,
     "metadata": {},
     "output_type": "execute_result"
    },
    {
     "data": {
      "image/png": "[encoded data removed]",
      "text/plain": [
       "<matplotlib.figure.Figure at 0x10f8c0128>"
      ]
     },
     "metadata": {},
     "output_type": "display_data"
    }
   ],
   "source": [
    "features = pd.Series(model_all_features.feature_importances_)\n",
    "features.index = X_train.columns\n",
    " \n",
    "# sort the features by importance\n",
    "features.sort_values(ascending=True, inplace=True)\n",
    " \n",
    "# plot\n",
    "features.plot.bar(figsize=(20,6),color='blue')"
   ]
  },
  {
   "cell_type": "code",
   "execution_count": 15,
   "metadata": {
    "collapsed": true
   },
   "outputs": [],
   "source": [
    "features = list(features.index)"
   ]
  },
  {
   "cell_type": "markdown",
   "metadata": {},
   "source": [
    "#### the final step consists in removing one at a time all the features, from the least to the most important, and build an xgboost at each round. once we build the model, we calculate the new r2 if the new r2 is smaller than the original one (with all the features), then that feature that was removed was important, and we should keep it. otherwise, we should remove the feature"
   ]
  },
  {
   "cell_type": "code",
   "execution_count": 16,
   "metadata": {
    "collapsed": true
   },
   "outputs": [],
   "source": [
    "tol=0.001"
   ]
  },
  {
   "cell_type": "code",
   "execution_count": 17,
   "metadata": {
    "collapsed": true
   },
   "outputs": [],
   "source": [
    "features_to_remove = []\n",
    " "
   ]
  },
  {
   "cell_type": "code",
   "execution_count": 18,
   "metadata": {
    "collapsed": true
   },
   "outputs": [],
   "source": [
    "count = 1\n"
   ]
  },
  {
   "cell_type": "code",
   "execution_count": 19,
   "metadata": {
    "scrolled": false
   },
   "outputs": [
    {
     "name": "stdout",
     "output_type": "stream",
     "text": [
      "\n",
      "testing feature:  LowQualFinSF  which is feature  1  out of  36\n",
      "New Test r2 = 0.8176628877400767\n",
      "All features Test r2 = 0.8185508615101988\n",
      "Drop in r2 = 0.0008879737701221746\n",
      "remove:  LowQualFinSF\n",
      "\n",
      "testing feature:  KitchenAbvGr  which is feature  2  out of  36\n",
      "New Test r2 = 0.8218740628640144\n",
      "All features Test r2 = 0.8176628877400767\n",
      "Drop in r2 = -0.00421117512393776\n",
      "remove:  KitchenAbvGr\n",
      "\n",
      "testing feature:  BsmtFullBath  which is feature  3  out of  36\n",
      "New Test r2 = 0.8216199474312881\n",
      "All features Test r2 = 0.8218740628640144\n",
      "Drop in r2 = 0.00025411543272635395\n",
      "remove:  BsmtFullBath\n",
      "\n",
      "testing feature:  BsmtHalfBath  which is feature  4  out of  36\n",
      "New Test r2 = 0.8241857928140686\n",
      "All features Test r2 = 0.8216199474312881\n",
      "Drop in r2 = -0.002565845382780485\n",
      "remove:  BsmtHalfBath\n",
      "\n",
      "testing feature:  GarageCars  which is feature  5  out of  36\n",
      "New Test r2 = 0.8234478263522329\n",
      "All features Test r2 = 0.8241857928140686\n",
      "Drop in r2 = 0.0007379664618356596\n",
      "remove:  GarageCars\n",
      "\n",
      "testing feature:  MiscVal  which is feature  6  out of  36\n",
      "New Test r2 = 0.8245560565485206\n",
      "All features Test r2 = 0.8234478263522329\n",
      "Drop in r2 = -0.0011082301962876961\n",
      "remove:  MiscVal\n",
      "\n",
      "testing feature:  FullBath  which is feature  7  out of  36\n",
      "New Test r2 = 0.8142130912663263\n",
      "All features Test r2 = 0.8245560565485206\n",
      "Drop in r2 =0.01034296528219425\n",
      "keep:  FullBath\n",
      "\n",
      "testing feature:  HalfBath  which is feature  8  out of  36\n",
      "New Test r2 = 0.8223914501432945\n",
      "All features Test r2 = 0.8245560565485206\n",
      "Drop in r2 =0.0021646064052260883\n",
      "keep:  HalfBath\n",
      "\n",
      "testing feature:  Fireplaces  which is feature  9  out of  36\n",
      "New Test r2 = 0.814062191310915\n",
      "All features Test r2 = 0.8245560565485206\n",
      "Drop in r2 =0.010493865237605648\n",
      "keep:  Fireplaces\n",
      "\n",
      "testing feature:  3SsnPorch  which is feature  10  out of  36\n",
      "New Test r2 = 0.8228884035226094\n",
      "All features Test r2 = 0.8245560565485206\n",
      "Drop in r2 =0.0016676530259112088\n",
      "keep:  3SsnPorch\n",
      "\n",
      "testing feature:  EnclosedPorch  which is feature  11  out of  36\n",
      "New Test r2 = 0.8216894685951396\n",
      "All features Test r2 = 0.8245560565485206\n",
      "Drop in r2 =0.002866587953381017\n",
      "keep:  EnclosedPorch\n",
      "\n",
      "testing feature:  TotRmsAbvGrd  which is feature  12  out of  36\n",
      "New Test r2 = 0.8200291572058384\n",
      "All features Test r2 = 0.8245560565485206\n",
      "Drop in r2 =0.004526899342682245\n",
      "keep:  TotRmsAbvGrd\n",
      "\n",
      "testing feature:  BedroomAbvGr  which is feature  13  out of  36\n",
      "New Test r2 = 0.8236742809864477\n",
      "All features Test r2 = 0.8245560565485206\n",
      "Drop in r2 = 0.0008817755620729173\n",
      "remove:  BedroomAbvGr\n",
      "\n",
      "testing feature:  PoolArea  which is feature  14  out of  36\n",
      "New Test r2 = 0.8123855405578879\n",
      "All features Test r2 = 0.8236742809864477\n",
      "Drop in r2 =0.011288740428559763\n",
      "keep:  PoolArea\n",
      "\n",
      "testing feature:  ScreenPorch  which is feature  15  out of  36\n",
      "New Test r2 = 0.8259976977255308\n",
      "All features Test r2 = 0.8236742809864477\n",
      "Drop in r2 = -0.002323416739083095\n",
      "remove:  ScreenPorch\n",
      "\n",
      "testing feature:  YrSold  which is feature  16  out of  36\n",
      "New Test r2 = 0.8238306513646853\n",
      "All features Test r2 = 0.8259976977255308\n",
      "Drop in r2 =0.002167046360845526\n",
      "keep:  YrSold\n",
      "\n",
      "testing feature:  BsmtFinSF2  which is feature  17  out of  36\n",
      "New Test r2 = 0.8170781108452227\n",
      "All features Test r2 = 0.8259976977255308\n",
      "Drop in r2 =0.008919586880308028\n",
      "keep:  BsmtFinSF2\n",
      "\n",
      "testing feature:  2ndFlrSF  which is feature  18  out of  36\n",
      "New Test r2 = 0.816373763701784\n",
      "All features Test r2 = 0.8259976977255308\n",
      "Drop in r2 =0.009623934023746727\n",
      "keep:  2ndFlrSF\n",
      "\n",
      "testing feature:  YearRemodAdd  which is feature  19  out of  36\n",
      "New Test r2 = 0.8258583975235964\n",
      "All features Test r2 = 0.8259976977255308\n",
      "Drop in r2 = 0.0001393002019344225\n",
      "remove:  YearRemodAdd\n",
      "\n",
      "testing feature:  WoodDeckSF  which is feature  20  out of  36\n",
      "New Test r2 = 0.8211710487205289\n",
      "All features Test r2 = 0.8258583975235964\n",
      "Drop in r2 =0.004687348803067426\n",
      "keep:  WoodDeckSF\n",
      "\n",
      "testing feature:  OpenPorchSF  which is feature  21  out of  36\n",
      "New Test r2 = 0.8224357188998381\n",
      "All features Test r2 = 0.8258583975235964\n",
      "Drop in r2 =0.003422678623758224\n",
      "keep:  OpenPorchSF\n",
      "\n",
      "testing feature:  OverallQual  which is feature  22  out of  36\n",
      "New Test r2 = 0.7923627378533993\n",
      "All features Test r2 = 0.8258583975235964\n",
      "Drop in r2 =0.033495659670197075\n",
      "keep:  OverallQual\n",
      "\n",
      "testing feature:  TotalBsmtSF  which is feature  23  out of  36\n",
      "New Test r2 = 0.8159251371651921\n",
      "All features Test r2 = 0.8258583975235964\n",
      "Drop in r2 =0.00993326035840425\n",
      "keep:  TotalBsmtSF\n",
      "\n",
      "testing feature:  MasVnrArea  which is feature  24  out of  36\n",
      "New Test r2 = 0.8531558041299072\n",
      "All features Test r2 = 0.8258583975235964\n",
      "Drop in r2 = -0.02729740660631086\n",
      "remove:  MasVnrArea\n",
      "\n",
      "testing feature:  OverallCond  which is feature  25  out of  36\n",
      "New Test r2 = 0.8446694034811906\n",
      "All features Test r2 = 0.8531558041299072\n",
      "Drop in r2 =0.008486400648716641\n",
      "keep:  OverallCond\n",
      "\n",
      "testing feature:  MSSubClass  which is feature  26  out of  36\n",
      "New Test r2 = 0.851514246867042\n",
      "All features Test r2 = 0.8531558041299072\n",
      "Drop in r2 =0.0016415572628651898\n",
      "keep:  MSSubClass\n",
      "\n",
      "testing feature:  MoSold  which is feature  27  out of  36\n",
      "New Test r2 = 0.863875155480818\n",
      "All features Test r2 = 0.8531558041299072\n",
      "Drop in r2 = -0.010719351350910733\n",
      "remove:  MoSold\n",
      "\n",
      "testing feature:  GarageYrBlt  which is feature  28  out of  36\n",
      "New Test r2 = 0.8607770586428112\n",
      "All features Test r2 = 0.863875155480818\n",
      "Drop in r2 =0.0030980968380067697\n",
      "keep:  GarageYrBlt\n",
      "\n",
      "testing feature:  YearBuilt  which is feature  29  out of  36\n",
      "New Test r2 = 0.8597803158007506\n",
      "All features Test r2 = 0.863875155480818\n",
      "Drop in r2 =0.004094839680067297\n",
      "keep:  YearBuilt\n",
      "\n",
      "testing feature:  1stFlrSF  which is feature  30  out of  36\n",
      "New Test r2 = 0.8571840255319483\n",
      "All features Test r2 = 0.863875155480818\n",
      "Drop in r2 =0.006691129948869667\n",
      "keep:  1stFlrSF\n",
      "\n",
      "testing feature:  BsmtFinSF1  which is feature  31  out of  36\n",
      "New Test r2 = 0.8535897492997575\n",
      "All features Test r2 = 0.863875155480818\n",
      "Drop in r2 =0.010285406181060441\n",
      "keep:  BsmtFinSF1\n",
      "\n",
      "testing feature:  GarageArea  which is feature  32  out of  36\n",
      "New Test r2 = 0.8619347524274193\n",
      "All features Test r2 = 0.863875155480818\n",
      "Drop in r2 =0.0019404030533985983\n",
      "keep:  GarageArea\n",
      "\n",
      "testing feature:  GrLivArea  which is feature  33  out of  36\n",
      "New Test r2 = 0.8576575601588515\n",
      "All features Test r2 = 0.863875155480818\n",
      "Drop in r2 =0.006217595321966418\n",
      "keep:  GrLivArea\n",
      "\n",
      "testing feature:  BsmtUnfSF  which is feature  34  out of  36\n",
      "New Test r2 = 0.8654469148741569\n",
      "All features Test r2 = 0.863875155480818\n",
      "Drop in r2 = -0.0015717593933389784\n",
      "remove:  BsmtUnfSF\n",
      "\n",
      "testing feature:  LotArea  which is feature  35  out of  36\n",
      "New Test r2 = 0.8532509341202452\n",
      "All features Test r2 = 0.8654469148741569\n",
      "Drop in r2 =0.012195980753911706\n",
      "keep:  LotArea\n",
      "\n",
      "testing feature:  LotFrontage  which is feature  36  out of  36\n",
      "New Test r2 = 0.887427764266262\n",
      "All features Test r2 = 0.8654469148741569\n",
      "Drop in r2 = -0.021980849392105095\n",
      "remove:  LotFrontage\n"
     ]
    }
   ],
   "source": [
    "for feature in features:\n",
    "    print()\n",
    "    print('testing feature: ', feature, ' which is feature ', count,\n",
    "          ' out of ', len(features))\n",
    "    count = count + 1\n",
    " \n",
    "    # initialise model\n",
    "    model_int = xgb.XGBRegressor(\n",
    "        nthread=10, max_depth=4, n_estimators=500, learning_rate=0.05,n_jobs=-1)\n",
    " \n",
    "    # fit model with all variables minus the removed features\n",
    "    # and the feature to be evaluated\n",
    "    model_int.fit(\n",
    "        X_train.drop(features_to_remove + [feature], axis=1), y_train)\n",
    " \n",
    "    # make a prediction over the test set\n",
    "    y_pred_test = model_int.predict(\n",
    "        X_test.drop(features_to_remove + [feature], axis=1))\n",
    " \n",
    "    # calculate the new r2\n",
    "    r2_score_int = r2_score(y_test, y_pred_test)\n",
    "    print('New Test r2 = {}'.format((r2_score_int)))\n",
    " \n",
    "    # print the original r2 with all the features\n",
    "    print('All features Test r2 = {}'.format((r2_score_all)))\n",
    " \n",
    "    # determine the drop in the r2\n",
    "    diff_r2 = r2_score_all - r2_score_int\n",
    " \n",
    "    # compare the drop in r2 with the tolerance\n",
    "    # we set previously\n",
    "    if diff_r2 >= tol:\n",
    "        print('Drop in r2 ={}'.format(diff_r2))\n",
    "        print('keep: ', feature)\n",
    "        print\n",
    "    else:\n",
    "        print('Drop in r2 = {}'.format(diff_r2))\n",
    "        print('remove: ', feature)\n",
    "        print\n",
    "        # if the drop in the r2 is small and we remove the\n",
    "        # feature, we need to set the new r2 to the one based on\n",
    "        # the remaining features\n",
    "        r2_score_all = r2_score_int\n",
    "        \n",
    "        # and append the feature to remove to the collecting\n",
    "        # list\n",
    "        features_to_remove.append(feature)"
   ]
  },
  {
   "cell_type": "code",
   "execution_count": 20,
   "metadata": {},
   "outputs": [
    {
     "name": "stdout",
     "output_type": "stream",
     "text": [
      "DONE!!\n",
      "total features to remove:  13\n"
     ]
    }
   ],
   "source": [
    "print('DONE!!')\n",
    "print('total features to remove: ', len(features_to_remove))"
   ]
  },
  {
   "cell_type": "markdown",
   "metadata": {},
   "source": [
    "#### capture the 23 selected features"
   ]
  },
  {
   "cell_type": "code",
   "execution_count": 21,
   "metadata": {},
   "outputs": [
    {
     "name": "stdout",
     "output_type": "stream",
     "text": [
      "total features to keep:  23\n"
     ]
    }
   ],
   "source": [
    "features_to_keep = [x for x in features if x not in features_to_remove]\n",
    "print('total features to keep: ', len(features_to_keep))"
   ]
  },
  {
   "cell_type": "markdown",
   "metadata": {},
   "source": [
    "Lets test the model on test set"
   ]
  },
  {
   "cell_type": "code",
   "execution_count": 22,
   "metadata": {},
   "outputs": [
    {
     "name": "stdout",
     "output_type": "stream",
     "text": [
      "Test selected features r2 = 0.863848\n",
      "Test all features r2 = 0.887428\n"
     ]
    }
   ],
   "source": [
    "seed_val = 1000000000\n",
    "np.random.seed(seed_val)\n",
    " \n",
    "# build initial model\n",
    "final_xgb = xgb.XGBRegressor(\n",
    "    nthread=10, max_depth=4, n_estimators=500, learning_rate=0.05,n_jobs=-1)\n",
    " \n",
    "# fit the model with the selected features\n",
    "final_xgb.fit(X_train[features_to_keep], y_train)\n",
    " \n",
    "# make predictions\n",
    "y_pred_test = final_xgb.predict(X_test[features_to_keep])\n",
    " \n",
    "# calculate roc-auc\n",
    "r2_score_final = r2_score(y_test, y_pred_test)\n",
    "print('Test selected features r2 = %f' % (r2_score_final))\n",
    "print('Test all features r2 = %f' % (r2_score_all))"
   ]
  },
  {
   "cell_type": "code",
   "execution_count": null,
   "metadata": {
    "collapsed": true
   },
   "outputs": [],
   "source": []
  }
 ],
 "metadata": {
  "kernelspec": {
   "display_name": "Python 3",
   "language": "python",
   "name": "python3"
  },
  "language_info": {
   "codemirror_mode": {
    "name": "ipython",
    "version": 3
   },
   "file_extension": ".py",
   "mimetype": "text/x-python",
   "name": "python",
   "nbconvert_exporter": "python",
   "pygments_lexer": "ipython3",
   "version": "3.6.1"
  }
 },
 "nbformat": 4,
 "nbformat_minor": 2
}
