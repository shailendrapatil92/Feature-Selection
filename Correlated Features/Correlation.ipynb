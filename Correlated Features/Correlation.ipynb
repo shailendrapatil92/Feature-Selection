{
 "cells": [
  {
   "cell_type": "markdown",
   "metadata": {},
   "source": [
    "# Correlation"
   ]
  },
  {
   "cell_type": "code",
   "execution_count": 24,
   "metadata": {},
   "outputs": [],
   "source": [
    "import pandas as pd\n",
    "import numpy as np\n",
    "import matplotlib.pyplot as plt\n",
    "import seaborn as sns\n",
    "%matplotlib inline"
   ]
  },
  {
   "cell_type": "code",
   "execution_count": 7,
   "metadata": {},
   "outputs": [],
   "source": [
    "data=pd.read_csv(\"train.csv\",nrows=50000)"
   ]
  },
  {
   "cell_type": "code",
   "execution_count": 8,
   "metadata": {},
   "outputs": [
    {
     "data": {
      "text/plain": [
       "(50000, 133)"
      ]
     },
     "execution_count": 8,
     "metadata": {},
     "output_type": "execute_result"
    }
   ],
   "source": [
    "data.shape"
   ]
  },
  {
   "cell_type": "code",
   "execution_count": 9,
   "metadata": {},
   "outputs": [
    {
     "data": {
      "text/html": [
       "<div>\n",
       "<style scoped>\n",
       "    .dataframe tbody tr th:only-of-type {\n",
       "        vertical-align: middle;\n",
       "    }\n",
       "\n",
       "    .dataframe tbody tr th {\n",
       "        vertical-align: top;\n",
       "    }\n",
       "\n",
       "    .dataframe thead th {\n",
       "        text-align: right;\n",
       "    }\n",
       "</style>\n",
       "<table border=\"1\" class=\"dataframe\">\n",
       "  <thead>\n",
       "    <tr style=\"text-align: right;\">\n",
       "      <th></th>\n",
       "      <th>ID</th>\n",
       "      <th>target</th>\n",
       "      <th>v1</th>\n",
       "      <th>v2</th>\n",
       "      <th>v3</th>\n",
       "      <th>v4</th>\n",
       "      <th>v5</th>\n",
       "      <th>v6</th>\n",
       "      <th>v7</th>\n",
       "      <th>v8</th>\n",
       "      <th>...</th>\n",
       "      <th>v122</th>\n",
       "      <th>v123</th>\n",
       "      <th>v124</th>\n",
       "      <th>v125</th>\n",
       "      <th>v126</th>\n",
       "      <th>v127</th>\n",
       "      <th>v128</th>\n",
       "      <th>v129</th>\n",
       "      <th>v130</th>\n",
       "      <th>v131</th>\n",
       "    </tr>\n",
       "  </thead>\n",
       "  <tbody>\n",
       "    <tr>\n",
       "      <th>0</th>\n",
       "      <td>3</td>\n",
       "      <td>1</td>\n",
       "      <td>1.335739</td>\n",
       "      <td>8.727474</td>\n",
       "      <td>C</td>\n",
       "      <td>3.921026</td>\n",
       "      <td>7.915266</td>\n",
       "      <td>2.599278</td>\n",
       "      <td>3.176895</td>\n",
       "      <td>0.012941</td>\n",
       "      <td>...</td>\n",
       "      <td>8.000000</td>\n",
       "      <td>1.989780</td>\n",
       "      <td>0.035754</td>\n",
       "      <td>AU</td>\n",
       "      <td>1.804126</td>\n",
       "      <td>3.113719</td>\n",
       "      <td>2.024285</td>\n",
       "      <td>0</td>\n",
       "      <td>0.636365</td>\n",
       "      <td>2.857144</td>\n",
       "    </tr>\n",
       "    <tr>\n",
       "      <th>1</th>\n",
       "      <td>4</td>\n",
       "      <td>1</td>\n",
       "      <td>NaN</td>\n",
       "      <td>NaN</td>\n",
       "      <td>C</td>\n",
       "      <td>NaN</td>\n",
       "      <td>9.191265</td>\n",
       "      <td>NaN</td>\n",
       "      <td>NaN</td>\n",
       "      <td>2.301630</td>\n",
       "      <td>...</td>\n",
       "      <td>NaN</td>\n",
       "      <td>NaN</td>\n",
       "      <td>0.598896</td>\n",
       "      <td>AF</td>\n",
       "      <td>NaN</td>\n",
       "      <td>NaN</td>\n",
       "      <td>1.957825</td>\n",
       "      <td>0</td>\n",
       "      <td>NaN</td>\n",
       "      <td>NaN</td>\n",
       "    </tr>\n",
       "    <tr>\n",
       "      <th>2</th>\n",
       "      <td>5</td>\n",
       "      <td>1</td>\n",
       "      <td>0.943877</td>\n",
       "      <td>5.310079</td>\n",
       "      <td>C</td>\n",
       "      <td>4.410969</td>\n",
       "      <td>5.326159</td>\n",
       "      <td>3.979592</td>\n",
       "      <td>3.928571</td>\n",
       "      <td>0.019645</td>\n",
       "      <td>...</td>\n",
       "      <td>9.333333</td>\n",
       "      <td>2.477596</td>\n",
       "      <td>0.013452</td>\n",
       "      <td>AE</td>\n",
       "      <td>1.773709</td>\n",
       "      <td>3.922193</td>\n",
       "      <td>1.120468</td>\n",
       "      <td>2</td>\n",
       "      <td>0.883118</td>\n",
       "      <td>1.176472</td>\n",
       "    </tr>\n",
       "    <tr>\n",
       "      <th>3</th>\n",
       "      <td>6</td>\n",
       "      <td>1</td>\n",
       "      <td>0.797415</td>\n",
       "      <td>8.304757</td>\n",
       "      <td>C</td>\n",
       "      <td>4.225930</td>\n",
       "      <td>11.627438</td>\n",
       "      <td>2.097700</td>\n",
       "      <td>1.987549</td>\n",
       "      <td>0.171947</td>\n",
       "      <td>...</td>\n",
       "      <td>7.018256</td>\n",
       "      <td>1.812795</td>\n",
       "      <td>0.002267</td>\n",
       "      <td>CJ</td>\n",
       "      <td>1.415230</td>\n",
       "      <td>2.954381</td>\n",
       "      <td>1.990847</td>\n",
       "      <td>1</td>\n",
       "      <td>1.677108</td>\n",
       "      <td>1.034483</td>\n",
       "    </tr>\n",
       "    <tr>\n",
       "      <th>4</th>\n",
       "      <td>8</td>\n",
       "      <td>1</td>\n",
       "      <td>NaN</td>\n",
       "      <td>NaN</td>\n",
       "      <td>C</td>\n",
       "      <td>NaN</td>\n",
       "      <td>NaN</td>\n",
       "      <td>NaN</td>\n",
       "      <td>NaN</td>\n",
       "      <td>NaN</td>\n",
       "      <td>...</td>\n",
       "      <td>NaN</td>\n",
       "      <td>NaN</td>\n",
       "      <td>NaN</td>\n",
       "      <td>Z</td>\n",
       "      <td>NaN</td>\n",
       "      <td>NaN</td>\n",
       "      <td>NaN</td>\n",
       "      <td>0</td>\n",
       "      <td>NaN</td>\n",
       "      <td>NaN</td>\n",
       "    </tr>\n",
       "  </tbody>\n",
       "</table>\n",
       "<p>5 rows × 133 columns</p>\n",
       "</div>"
      ],
      "text/plain": [
       "   ID  target        v1        v2 v3        v4         v5        v6        v7  \\\n",
       "0   3       1  1.335739  8.727474  C  3.921026   7.915266  2.599278  3.176895   \n",
       "1   4       1       NaN       NaN  C       NaN   9.191265       NaN       NaN   \n",
       "2   5       1  0.943877  5.310079  C  4.410969   5.326159  3.979592  3.928571   \n",
       "3   6       1  0.797415  8.304757  C  4.225930  11.627438  2.097700  1.987549   \n",
       "4   8       1       NaN       NaN  C       NaN        NaN       NaN       NaN   \n",
       "\n",
       "         v8    ...         v122      v123      v124  v125      v126      v127  \\\n",
       "0  0.012941    ...     8.000000  1.989780  0.035754    AU  1.804126  3.113719   \n",
       "1  2.301630    ...          NaN       NaN  0.598896    AF       NaN       NaN   \n",
       "2  0.019645    ...     9.333333  2.477596  0.013452    AE  1.773709  3.922193   \n",
       "3  0.171947    ...     7.018256  1.812795  0.002267    CJ  1.415230  2.954381   \n",
       "4       NaN    ...          NaN       NaN       NaN     Z       NaN       NaN   \n",
       "\n",
       "       v128  v129      v130      v131  \n",
       "0  2.024285     0  0.636365  2.857144  \n",
       "1  1.957825     0       NaN       NaN  \n",
       "2  1.120468     2  0.883118  1.176472  \n",
       "3  1.990847     1  1.677108  1.034483  \n",
       "4       NaN     0       NaN       NaN  \n",
       "\n",
       "[5 rows x 133 columns]"
      ]
     },
     "execution_count": 9,
     "metadata": {},
     "output_type": "execute_result"
    }
   ],
   "source": [
    "data.head()"
   ]
  },
  {
   "cell_type": "markdown",
   "metadata": {},
   "source": [
    "For Simplicity lets use only numerical variables of dataset"
   ]
  },
  {
   "cell_type": "code",
   "execution_count": 10,
   "metadata": {},
   "outputs": [
    {
     "data": {
      "text/plain": [
       "(50000, 114)"
      ]
     },
     "execution_count": 10,
     "metadata": {},
     "output_type": "execute_result"
    }
   ],
   "source": [
    "numerics=['int16','int32','int64','float16','float32','float64']\n",
    "numerical_vars=list(data.select_dtypes(include=numerics).columns)\n",
    "data=data[numerical_vars]\n",
    "data.shape"
   ]
  },
  {
   "cell_type": "markdown",
   "metadata": {},
   "source": [
    "In Feature Selection , it is a good practice to select the features by examining only the training set"
   ]
  },
  {
   "cell_type": "code",
   "execution_count": 11,
   "metadata": {
    "collapsed": true
   },
   "outputs": [],
   "source": [
    "from sklearn.model_selection import train_test_split"
   ]
  },
  {
   "cell_type": "code",
   "execution_count": 13,
   "metadata": {},
   "outputs": [],
   "source": [
    "X_train,X_test,y_train,y_test=train_test_split(data.drop(labels=['target','ID'],axis=1),\n",
    "                                               data['target'],test_size=0.3,random_state=0)"
   ]
  },
  {
   "cell_type": "code",
   "execution_count": 14,
   "metadata": {},
   "outputs": [
    {
     "data": {
      "text/plain": [
       "((35000, 112), (35000,))"
      ]
     },
     "execution_count": 14,
     "metadata": {},
     "output_type": "execute_result"
    }
   ],
   "source": [
    "(X_train.shape,y_train.shape)"
   ]
  },
  {
   "cell_type": "code",
   "execution_count": 15,
   "metadata": {},
   "outputs": [
    {
     "data": {
      "text/plain": [
       "((15000, 112), (15000,))"
      ]
     },
     "execution_count": 15,
     "metadata": {},
     "output_type": "execute_result"
    }
   ],
   "source": [
    "(X_test.shape,y_test.shape)"
   ]
  },
  {
   "cell_type": "markdown",
   "metadata": {},
   "source": [
    "### Visualizing Correlated features with correlation matrix"
   ]
  },
  {
   "cell_type": "code",
   "execution_count": 30,
   "metadata": {},
   "outputs": [
    {
     "data": {
      "text/plain": [
       "<matplotlib.axes._subplots.AxesSubplot at 0x12d714d30>"
      ]
     },
     "execution_count": 30,
     "metadata": {},
     "output_type": "execute_result"
    },
    {
     "data": {
      "image/png": "[encoded data removed]",
      "text/plain": [
       "<matplotlib.figure.Figure at 0x12d579320>"
      ]
     },
     "metadata": {},
     "output_type": "display_data"
    }
   ],
   "source": [
    "corr_matrix=X_train.corr()\n",
    "fig, ax = plt.subplots()\n",
    "fig.set_size_inches(12,12)\n",
    "sns.heatmap(corr_matrix)\n",
    "\n"
   ]
  },
  {
   "cell_type": "markdown",
   "metadata": {},
   "source": [
    "We can see many features are correlated with each other , We will check these features. We will consider highly correlated feature as the ones which have a correlation greater than 0.8"
   ]
  },
  {
   "cell_type": "markdown",
   "metadata": {},
   "source": [
    "### 1. Brute Force Approach "
   ]
  },
  {
   "cell_type": "code",
   "execution_count": 36,
   "metadata": {},
   "outputs": [
    {
     "data": {
      "text/html": [
       "<div>\n",
       "<style scoped>\n",
       "    .dataframe tbody tr th:only-of-type {\n",
       "        vertical-align: middle;\n",
       "    }\n",
       "\n",
       "    .dataframe tbody tr th {\n",
       "        vertical-align: top;\n",
       "    }\n",
       "\n",
       "    .dataframe thead th {\n",
       "        text-align: right;\n",
       "    }\n",
       "</style>\n",
       "<table border=\"1\" class=\"dataframe\">\n",
       "  <thead>\n",
       "    <tr style=\"text-align: right;\">\n",
       "      <th></th>\n",
       "      <th>v1</th>\n",
       "      <th>v2</th>\n",
       "      <th>v4</th>\n",
       "      <th>v5</th>\n",
       "      <th>v6</th>\n",
       "      <th>v7</th>\n",
       "      <th>v8</th>\n",
       "      <th>v9</th>\n",
       "      <th>v10</th>\n",
       "      <th>v11</th>\n",
       "      <th>...</th>\n",
       "      <th>v121</th>\n",
       "      <th>v122</th>\n",
       "      <th>v123</th>\n",
       "      <th>v124</th>\n",
       "      <th>v126</th>\n",
       "      <th>v127</th>\n",
       "      <th>v128</th>\n",
       "      <th>v129</th>\n",
       "      <th>v130</th>\n",
       "      <th>v131</th>\n",
       "    </tr>\n",
       "  </thead>\n",
       "  <tbody>\n",
       "    <tr>\n",
       "      <th>v1</th>\n",
       "      <td>1.000000</td>\n",
       "      <td>-0.214441</td>\n",
       "      <td>-0.138651</td>\n",
       "      <td>-0.060750</td>\n",
       "      <td>-0.015902</td>\n",
       "      <td>0.105593</td>\n",
       "      <td>0.158376</td>\n",
       "      <td>-0.024072</td>\n",
       "      <td>-0.012149</td>\n",
       "      <td>-0.270903</td>\n",
       "      <td>...</td>\n",
       "      <td>0.354872</td>\n",
       "      <td>-0.139074</td>\n",
       "      <td>0.300772</td>\n",
       "      <td>0.150405</td>\n",
       "      <td>0.028196</td>\n",
       "      <td>-0.005724</td>\n",
       "      <td>-0.028201</td>\n",
       "      <td>-0.020508</td>\n",
       "      <td>0.262435</td>\n",
       "      <td>0.699832</td>\n",
       "    </tr>\n",
       "    <tr>\n",
       "      <th>v2</th>\n",
       "      <td>-0.214441</td>\n",
       "      <td>1.000000</td>\n",
       "      <td>0.535565</td>\n",
       "      <td>0.201908</td>\n",
       "      <td>0.015211</td>\n",
       "      <td>0.348694</td>\n",
       "      <td>-0.367301</td>\n",
       "      <td>-0.013361</td>\n",
       "      <td>0.057521</td>\n",
       "      <td>0.229426</td>\n",
       "      <td>...</td>\n",
       "      <td>-0.570172</td>\n",
       "      <td>0.169511</td>\n",
       "      <td>-0.593245</td>\n",
       "      <td>-0.256479</td>\n",
       "      <td>-0.099032</td>\n",
       "      <td>0.008931</td>\n",
       "      <td>0.260275</td>\n",
       "      <td>0.081289</td>\n",
       "      <td>-0.579851</td>\n",
       "      <td>0.175647</td>\n",
       "    </tr>\n",
       "    <tr>\n",
       "      <th>v4</th>\n",
       "      <td>-0.138651</td>\n",
       "      <td>0.535565</td>\n",
       "      <td>1.000000</td>\n",
       "      <td>0.260137</td>\n",
       "      <td>0.377441</td>\n",
       "      <td>0.477087</td>\n",
       "      <td>-0.169936</td>\n",
       "      <td>-0.209665</td>\n",
       "      <td>0.091749</td>\n",
       "      <td>0.119699</td>\n",
       "      <td>...</td>\n",
       "      <td>-0.610183</td>\n",
       "      <td>0.040277</td>\n",
       "      <td>-0.710741</td>\n",
       "      <td>-0.050260</td>\n",
       "      <td>-0.120078</td>\n",
       "      <td>0.298108</td>\n",
       "      <td>0.490682</td>\n",
       "      <td>0.114618</td>\n",
       "      <td>-0.703246</td>\n",
       "      <td>0.313911</td>\n",
       "    </tr>\n",
       "    <tr>\n",
       "      <th>v5</th>\n",
       "      <td>-0.060750</td>\n",
       "      <td>0.201908</td>\n",
       "      <td>0.260137</td>\n",
       "      <td>1.000000</td>\n",
       "      <td>0.244101</td>\n",
       "      <td>0.051695</td>\n",
       "      <td>-0.004658</td>\n",
       "      <td>-0.170264</td>\n",
       "      <td>0.050314</td>\n",
       "      <td>0.117920</td>\n",
       "      <td>...</td>\n",
       "      <td>-0.353672</td>\n",
       "      <td>0.016612</td>\n",
       "      <td>-0.232443</td>\n",
       "      <td>0.072054</td>\n",
       "      <td>-0.094224</td>\n",
       "      <td>-0.230728</td>\n",
       "      <td>0.590853</td>\n",
       "      <td>0.047445</td>\n",
       "      <td>-0.253705</td>\n",
       "      <td>0.153792</td>\n",
       "    </tr>\n",
       "    <tr>\n",
       "      <th>v6</th>\n",
       "      <td>-0.015902</td>\n",
       "      <td>0.015211</td>\n",
       "      <td>0.377441</td>\n",
       "      <td>0.244101</td>\n",
       "      <td>1.000000</td>\n",
       "      <td>0.200610</td>\n",
       "      <td>0.028994</td>\n",
       "      <td>-0.048997</td>\n",
       "      <td>0.054143</td>\n",
       "      <td>0.058636</td>\n",
       "      <td>...</td>\n",
       "      <td>-0.277890</td>\n",
       "      <td>0.084340</td>\n",
       "      <td>-0.304233</td>\n",
       "      <td>0.034918</td>\n",
       "      <td>-0.173586</td>\n",
       "      <td>0.162040</td>\n",
       "      <td>0.235247</td>\n",
       "      <td>0.055887</td>\n",
       "      <td>-0.298493</td>\n",
       "      <td>0.158442</td>\n",
       "    </tr>\n",
       "  </tbody>\n",
       "</table>\n",
       "<p>5 rows × 112 columns</p>\n",
       "</div>"
      ],
      "text/plain": [
       "          v1        v2        v4        v5        v6        v7        v8  \\\n",
       "v1  1.000000 -0.214441 -0.138651 -0.060750 -0.015902  0.105593  0.158376   \n",
       "v2 -0.214441  1.000000  0.535565  0.201908  0.015211  0.348694 -0.367301   \n",
       "v4 -0.138651  0.535565  1.000000  0.260137  0.377441  0.477087 -0.169936   \n",
       "v5 -0.060750  0.201908  0.260137  1.000000  0.244101  0.051695 -0.004658   \n",
       "v6 -0.015902  0.015211  0.377441  0.244101  1.000000  0.200610  0.028994   \n",
       "\n",
       "          v9       v10       v11    ...         v121      v122      v123  \\\n",
       "v1 -0.024072 -0.012149 -0.270903    ...     0.354872 -0.139074  0.300772   \n",
       "v2 -0.013361  0.057521  0.229426    ...    -0.570172  0.169511 -0.593245   \n",
       "v4 -0.209665  0.091749  0.119699    ...    -0.610183  0.040277 -0.710741   \n",
       "v5 -0.170264  0.050314  0.117920    ...    -0.353672  0.016612 -0.232443   \n",
       "v6 -0.048997  0.054143  0.058636    ...    -0.277890  0.084340 -0.304233   \n",
       "\n",
       "        v124      v126      v127      v128      v129      v130      v131  \n",
       "v1  0.150405  0.028196 -0.005724 -0.028201 -0.020508  0.262435  0.699832  \n",
       "v2 -0.256479 -0.099032  0.008931  0.260275  0.081289 -0.579851  0.175647  \n",
       "v4 -0.050260 -0.120078  0.298108  0.490682  0.114618 -0.703246  0.313911  \n",
       "v5  0.072054 -0.094224 -0.230728  0.590853  0.047445 -0.253705  0.153792  \n",
       "v6  0.034918 -0.173586  0.162040  0.235247  0.055887 -0.298493  0.158442  \n",
       "\n",
       "[5 rows x 112 columns]"
      ]
     },
     "execution_count": 36,
     "metadata": {},
     "output_type": "execute_result"
    }
   ],
   "source": [
    "X_train.corr().head()"
   ]
  },
  {
   "cell_type": "code",
   "execution_count": 37,
   "metadata": {
    "collapsed": true
   },
   "outputs": [],
   "source": [
    "# with the following function we can select highly correlated features\n",
    "# it will remove the first feature that is correlated with anything else\n",
    "# without any other insight.\n",
    "\n",
    "def correlation(dataset, threshold):\n",
    "    col_corr = set()  # Set of all the names of correlated columns\n",
    "    corr_matrix = dataset.corr()\n",
    "    for i in range(len(corr_matrix.columns)):\n",
    "        for j in range(i):\n",
    "            if abs(corr_matrix.iloc[i, j]) > threshold: # we are interested in absolute coeff value\n",
    "                colname = corr_matrix.columns[i]  # getting the name of column\n",
    "                col_corr.add(colname)\n",
    "    return col_corr"
   ]
  },
  {
   "cell_type": "code",
   "execution_count": 38,
   "metadata": {},
   "outputs": [
    {
     "data": {
      "text/plain": [
       "55"
      ]
     },
     "execution_count": 38,
     "metadata": {},
     "output_type": "execute_result"
    }
   ],
   "source": [
    "corr_features = correlation(X_train, 0.8)\n",
    "len(set(corr_features))"
   ]
  },
  {
   "cell_type": "markdown",
   "metadata": {},
   "source": [
    "There are 55 features that are highly correlated with other features. We can drop these features."
   ]
  },
  {
   "cell_type": "code",
   "execution_count": 40,
   "metadata": {
    "collapsed": true
   },
   "outputs": [],
   "source": [
    "X_train.drop(labels=corr_features,axis=1,inplace=True)\n",
    "X_test.drop(labels=corr_features,axis=1,inplace=True)"
   ]
  },
  {
   "cell_type": "code",
   "execution_count": 41,
   "metadata": {},
   "outputs": [
    {
     "data": {
      "text/plain": [
       "((35000, 57), (35000,))"
      ]
     },
     "execution_count": 41,
     "metadata": {},
     "output_type": "execute_result"
    }
   ],
   "source": [
    "(X_train.shape,y_train.shape)"
   ]
  },
  {
   "cell_type": "code",
   "execution_count": 42,
   "metadata": {},
   "outputs": [
    {
     "data": {
      "text/plain": [
       "((15000, 57), (15000,))"
      ]
     },
     "execution_count": 42,
     "metadata": {},
     "output_type": "execute_result"
    }
   ],
   "source": [
    "(X_test.shape,y_test.shape)"
   ]
  },
  {
   "cell_type": "markdown",
   "metadata": {},
   "source": [
    "So we can see from 112 numerical feature we are left with 57 features"
   ]
  },
  {
   "cell_type": "markdown",
   "metadata": {},
   "source": [
    "### Approach 2: Identify groups of highly correlated features"
   ]
  },
  {
   "cell_type": "code",
   "execution_count": 44,
   "metadata": {},
   "outputs": [
    {
     "name": "stdout",
     "output_type": "stream",
     "text": [
      "((35000, 112), (35000,))\n",
      "((15000, 112), (15000,))\n"
     ]
    }
   ],
   "source": [
    "X_train,X_test,y_train,y_test=train_test_split(data.drop(labels=['target','ID'],axis=1),\n",
    "                                               data['target'],test_size=0.3,random_state=0)\n",
    "print((X_train.shape,y_train.shape))\n",
    "print((X_test.shape,y_test.shape))\n"
   ]
  },
  {
   "cell_type": "code",
   "execution_count": 56,
   "metadata": {},
   "outputs": [
    {
     "data": {
      "text/html": [
       "<div>\n",
       "<style scoped>\n",
       "    .dataframe tbody tr th:only-of-type {\n",
       "        vertical-align: middle;\n",
       "    }\n",
       "\n",
       "    .dataframe tbody tr th {\n",
       "        vertical-align: top;\n",
       "    }\n",
       "\n",
       "    .dataframe thead th {\n",
       "        text-align: right;\n",
       "    }\n",
       "</style>\n",
       "<table border=\"1\" class=\"dataframe\">\n",
       "  <thead>\n",
       "    <tr style=\"text-align: right;\">\n",
       "      <th></th>\n",
       "      <th>feature1</th>\n",
       "      <th>feature2</th>\n",
       "      <th>corr</th>\n",
       "    </tr>\n",
       "  </thead>\n",
       "  <tbody>\n",
       "    <tr>\n",
       "      <th>0</th>\n",
       "      <td>v100</td>\n",
       "      <td>v58</td>\n",
       "      <td>0.997974</td>\n",
       "    </tr>\n",
       "    <tr>\n",
       "      <th>1</th>\n",
       "      <td>v58</td>\n",
       "      <td>v100</td>\n",
       "      <td>0.997974</td>\n",
       "    </tr>\n",
       "    <tr>\n",
       "      <th>2</th>\n",
       "      <td>v115</td>\n",
       "      <td>v69</td>\n",
       "      <td>0.993229</td>\n",
       "    </tr>\n",
       "    <tr>\n",
       "      <th>3</th>\n",
       "      <td>v69</td>\n",
       "      <td>v115</td>\n",
       "      <td>0.993229</td>\n",
       "    </tr>\n",
       "    <tr>\n",
       "      <th>4</th>\n",
       "      <td>v17</td>\n",
       "      <td>v76</td>\n",
       "      <td>0.992511</td>\n",
       "    </tr>\n",
       "  </tbody>\n",
       "</table>\n",
       "</div>"
      ],
      "text/plain": [
       "  feature1 feature2      corr\n",
       "0     v100      v58  0.997974\n",
       "1      v58     v100  0.997974\n",
       "2     v115      v69  0.993229\n",
       "3      v69     v115  0.993229\n",
       "4      v17      v76  0.992511"
      ]
     },
     "execution_count": 56,
     "metadata": {},
     "output_type": "execute_result"
    }
   ],
   "source": [
    "corrmat = X_train.corr()\n",
    "corrmat = corrmat.abs().stack() # absolute value of corr coef\n",
    "corrmat = corrmat.sort_values(ascending=False)\n",
    "corrmat = corrmat[corrmat >= 0.8]\n",
    "corrmat = corrmat[corrmat < 1]\n",
    "corrmat = pd.DataFrame(corrmat).reset_index()\n",
    "corrmat.columns = ['feature1', 'feature2', 'corr']\n",
    "corrmat.head()"
   ]
  },
  {
   "cell_type": "markdown",
   "metadata": {},
   "source": [
    "We will find groups of correlated features now"
   ]
  },
  {
   "cell_type": "code",
   "execution_count": 82,
   "metadata": {},
   "outputs": [
    {
     "name": "stdout",
     "output_type": "stream",
     "text": [
      "found 32 correlated groups\n",
      "out of 112 total features\n"
     ]
    }
   ],
   "source": [
    "grouped_feature_ls = []\n",
    "correlated_groups = []\n",
    "\n",
    "for feature in corrmat.feature1.unique():\n",
    "    if feature not in grouped_feature_ls:\n",
    "\n",
    "        # find all features correlated to a single feature\n",
    "        correlated_block = corrmat[corrmat.feature1 == feature]# Slicing all the rows of feature that is being investigated\n",
    "        grouped_feature_ls = grouped_feature_ls + list(\n",
    "            correlated_block.feature2.unique()) + [feature]\n",
    "\n",
    "        # append the block of features to the list\n",
    "        correlated_groups.append(correlated_block)\n",
    "\n",
    "print('found {} correlated groups'.format(len(correlated_groups)))\n",
    "print('out of {} total features'.format(X_train.shape[1]))"
   ]
  },
  {
   "cell_type": "code",
   "execution_count": 86,
   "metadata": {
    "scrolled": false
   },
   "outputs": [
    {
     "name": "stdout",
     "output_type": "stream",
     "text": [
      "  feature1 feature2      corr\n",
      "0     v100      v58  0.997974\n",
      "\n",
      "  feature1 feature2      corr\n",
      "2     v115      v69  0.993229\n",
      "\n",
      "    feature1 feature2      corr\n",
      "4        v17      v76  0.992511\n",
      "9        v17      v64  0.982145\n",
      "107      v17      v48  0.910103\n",
      "130      v17      v93  0.887841\n",
      "174      v17     v106  0.854995\n",
      "218      v17      v44  0.818050\n",
      "243      v17     v101  0.800001\n",
      "\n",
      "   feature1 feature2      corr\n",
      "6       v46      v63  0.991521\n",
      "10      v46      v25  0.982115\n",
      "24      v46       v8  0.974733\n",
      "58      v46     v105  0.944465\n",
      "72      v46      v89  0.932504\n",
      "88      v46      v54  0.918355\n",
      "\n",
      "    feature1 feature2      corr\n",
      "16       v60      v26  0.980037\n",
      "148      v60      v43  0.872723\n",
      "176      v60     v116  0.854290\n",
      "\n",
      "   feature1 feature2      corr\n",
      "18      v92      v95  0.978357\n",
      "\n",
      "   feature1 feature2      corr\n",
      "28     v114      v40  0.966750\n",
      "99     v114      v34  0.911422\n",
      "\n",
      "    feature1 feature2      corr\n",
      "30       v83     v121  0.966052\n",
      "35       v83      v33  0.964033\n",
      "115      v83     v111  0.904298\n",
      "123      v83      v55  0.900085\n",
      "164      v83     v130  0.861632\n",
      "223      v83      v65  0.813134\n",
      "\n",
      "   feature1 feature2      corr\n",
      "38      v97     v118  0.962229\n",
      "\n",
      "    feature1 feature2      corr\n",
      "42       v96      v29  0.958960\n",
      "52       v96      v41  0.950550\n",
      "136      v96      v77  0.882483\n",
      "150      v96      v67  0.872422\n",
      "\n",
      "    feature1 feature2      corr\n",
      "44      v128     v108  0.957222\n",
      "117     v128     v109  0.903166\n",
      "237     v128      v87  0.806780\n",
      "\n",
      "   feature1 feature2      corr\n",
      "48      v11      v53  0.953475\n",
      "\n",
      "   feature1 feature2    corr\n",
      "56      v68      v39  0.9465\n",
      "\n",
      "   feature1 feature2      corr\n",
      "60      v73      v15  0.943414\n",
      "92      v73      v32  0.914279\n",
      "\n",
      "   feature1 feature2      corr\n",
      "84     v104      v13  0.925091\n",
      "\n",
      "   feature1 feature2      corr\n",
      "94      v12      v10  0.912375\n",
      "\n",
      "    feature1 feature2      corr\n",
      "101      v20      v65  0.910877\n",
      "\n",
      "    feature1 feature2      corr\n",
      "102      v86      v32  0.910536\n",
      "156      v86      v15  0.866780\n",
      "\n",
      "    feature1 feature2      corr\n",
      "112      v81       v5  0.904350\n",
      "205      v81      v87  0.833556\n",
      "230      v81      v51  0.808920\n",
      "\n",
      "    feature1 feature2      corr\n",
      "121      v49      v41  0.902189\n",
      "185      v49      v35  0.843311\n",
      "198      v49      v67  0.837974\n",
      "\n",
      "    feature1 feature2      corr\n",
      "126      v37       v1  0.893198\n",
      "\n",
      "    feature1 feature2      corr\n",
      "134     v124     v105  0.883245\n",
      "212     v124      v54  0.829198\n",
      "224     v124      v25  0.812963\n",
      "\n",
      "    feature1 feature2      corr\n",
      "167      v61     v106  0.861311\n",
      "216      v61     v123  0.823960\n",
      "\n",
      "    feature1 feature2     corr\n",
      "172     v119     v123  0.85967\n",
      "\n",
      "    feature1 feature2      corr\n",
      "180     v103      v94  0.848831\n",
      "\n",
      "    feature1 feature2      corr\n",
      "182      v70      v98  0.848617\n",
      "\n",
      "    feature1 feature2      corr\n",
      "189       v4      v48  0.842664\n",
      "190       v4     v106  0.841744\n",
      "220       v4      v64  0.815777\n",
      "\n",
      "    feature1 feature2      corr\n",
      "192     v126      v94  0.840438\n",
      "\n",
      "    feature1 feature2      corr\n",
      "194      v21      v14  0.838987\n",
      "\n",
      "    feature1 feature2      corr\n",
      "200      v84      v80  0.835534\n",
      "239      v84      v33  0.805673\n",
      "\n",
      "    feature1 feature2      corr\n",
      "208     v122       v9  0.831655\n",
      "\n",
      "    feature1 feature2      corr\n",
      "240      v78      v16  0.803508\n",
      "\n"
     ]
    }
   ],
   "source": [
    "for i in range(len(correlated_groups)):\n",
    "    print(correlated_groups[i])\n",
    "    print()"
   ]
  },
  {
   "cell_type": "markdown",
   "metadata": {},
   "source": [
    "Now we will choose on feature from each group. And there are different ways of doing"
   ]
  },
  {
   "cell_type": "markdown",
   "metadata": {},
   "source": [
    "Check if there are any missing values in these groups, If there is a significant difference we can remove those columns"
   ]
  },
  {
   "cell_type": "code",
   "execution_count": 101,
   "metadata": {
    "scrolled": false
   },
   "outputs": [
    {
     "name": "stdout",
     "output_type": "stream",
     "text": [
      "v58 15290\n",
      "v100 15290\n",
      "\n",
      "v69 15308\n",
      "v115 15308\n",
      "\n",
      "v76 15275\n",
      "v64 15275\n",
      "v48 15275\n",
      "v93 15288\n",
      "v106 15275\n",
      "v44 15275\n",
      "v101 15275\n",
      "v17 15275\n",
      "\n",
      "v63 14940\n",
      "v25 14940\n",
      "v8 14940\n",
      "v105 14949\n",
      "v89 14940\n",
      "v54 14940\n",
      "v46 14940\n",
      "\n",
      "v26 15288\n",
      "v43 15290\n",
      "v116 15290\n",
      "v60 15288\n",
      "\n",
      "v95 15292\n",
      "v92 15292\n",
      "\n",
      "v40 32\n",
      "v34 32\n",
      "v114 10\n",
      "\n",
      "v121 15291\n",
      "v33 15288\n",
      "v111 15288\n",
      "v55 15288\n",
      "v130 15292\n",
      "v65 15291\n",
      "v83 15288\n",
      "\n",
      "v118 15292\n",
      "v97 15292\n",
      "\n",
      "v29 15288\n",
      "v41 15288\n",
      "v77 15288\n",
      "v67 15288\n",
      "v96 15288\n",
      "\n",
      "v108 14942\n",
      "v109 14942\n",
      "v87 14951\n",
      "v128 14942\n",
      "\n",
      "v53 15290\n",
      "v11 15290\n",
      "\n",
      "v39 15290\n",
      "v68 15290\n",
      "\n",
      "v15 15290\n",
      "v32 15288\n",
      "v73 15290\n",
      "\n",
      "v13 15288\n",
      "v104 15288\n",
      "\n",
      "v10 24\n",
      "v12 26\n",
      "\n",
      "v65 15291\n",
      "v20 15291\n",
      "\n",
      "v32 15288\n",
      "v15 15290\n",
      "v86 15288\n",
      "\n",
      "v5 14942\n",
      "v87 14951\n",
      "v51 15562\n",
      "v81 14942\n",
      "\n",
      "v41 15288\n",
      "v35 15288\n",
      "v67 15288\n",
      "v49 15288\n",
      "\n",
      "v1 15288\n",
      "v37 15292\n",
      "\n",
      "v105 14949\n",
      "v54 14940\n",
      "v25 14940\n",
      "v124 14940\n",
      "\n",
      "v106 15275\n",
      "v123 15562\n",
      "v61 15275\n",
      "\n",
      "v123 15562\n",
      "v119 15563\n",
      "\n",
      "v94 15288\n",
      "v103 15288\n",
      "\n",
      "v98 14953\n",
      "v70 14947\n",
      "\n",
      "v48 15275\n",
      "v106 15275\n",
      "v64 15275\n",
      "v4 15275\n",
      "\n",
      "v94 15288\n",
      "v126 15288\n",
      "\n",
      "v14 0\n",
      "v21 187\n",
      "\n",
      "v80 15293\n",
      "v33 15288\n",
      "v84 15288\n",
      "\n",
      "v9 15293\n",
      "v122 15293\n",
      "\n",
      "v16 15308\n",
      "v78 15308\n",
      "\n"
     ]
    }
   ],
   "source": [
    "for data_corr in correlated_groups:\n",
    "    for feature in list(data_corr.feature2.unique())+list(data_corr.feature1.unique()):\n",
    "        print(feature,X_train[feature].isnull().sum())\n",
    "    print()"
   ]
  },
  {
   "cell_type": "markdown",
   "metadata": {},
   "source": [
    "In this case only the group v14 and v21 is something where we can drop v21 as it has 187 missing values and v14 has no missing values"
   ]
  },
  {
   "cell_type": "markdown",
   "metadata": {},
   "source": [
    "For other groups we can choose features for each group by building a random forest classifier on each group and choosing feature with highest feature importance"
   ]
  },
  {
   "cell_type": "markdown",
   "metadata": {},
   "source": [
    "For example lets use the below group and check how to choose feature"
   ]
  },
  {
   "cell_type": "code",
   "execution_count": 105,
   "metadata": {},
   "outputs": [
    {
     "data": {
      "text/html": [
       "<div>\n",
       "<style scoped>\n",
       "    .dataframe tbody tr th:only-of-type {\n",
       "        vertical-align: middle;\n",
       "    }\n",
       "\n",
       "    .dataframe tbody tr th {\n",
       "        vertical-align: top;\n",
       "    }\n",
       "\n",
       "    .dataframe thead th {\n",
       "        text-align: right;\n",
       "    }\n",
       "</style>\n",
       "<table border=\"1\" class=\"dataframe\">\n",
       "  <thead>\n",
       "    <tr style=\"text-align: right;\">\n",
       "      <th></th>\n",
       "      <th>feature1</th>\n",
       "      <th>feature2</th>\n",
       "      <th>corr</th>\n",
       "    </tr>\n",
       "  </thead>\n",
       "  <tbody>\n",
       "    <tr>\n",
       "      <th>4</th>\n",
       "      <td>v17</td>\n",
       "      <td>v76</td>\n",
       "      <td>0.992511</td>\n",
       "    </tr>\n",
       "    <tr>\n",
       "      <th>9</th>\n",
       "      <td>v17</td>\n",
       "      <td>v64</td>\n",
       "      <td>0.982145</td>\n",
       "    </tr>\n",
       "    <tr>\n",
       "      <th>107</th>\n",
       "      <td>v17</td>\n",
       "      <td>v48</td>\n",
       "      <td>0.910103</td>\n",
       "    </tr>\n",
       "    <tr>\n",
       "      <th>130</th>\n",
       "      <td>v17</td>\n",
       "      <td>v93</td>\n",
       "      <td>0.887841</td>\n",
       "    </tr>\n",
       "    <tr>\n",
       "      <th>174</th>\n",
       "      <td>v17</td>\n",
       "      <td>v106</td>\n",
       "      <td>0.854995</td>\n",
       "    </tr>\n",
       "    <tr>\n",
       "      <th>218</th>\n",
       "      <td>v17</td>\n",
       "      <td>v44</td>\n",
       "      <td>0.818050</td>\n",
       "    </tr>\n",
       "    <tr>\n",
       "      <th>243</th>\n",
       "      <td>v17</td>\n",
       "      <td>v101</td>\n",
       "      <td>0.800001</td>\n",
       "    </tr>\n",
       "  </tbody>\n",
       "</table>\n",
       "</div>"
      ],
      "text/plain": [
       "    feature1 feature2      corr\n",
       "4        v17      v76  0.992511\n",
       "9        v17      v64  0.982145\n",
       "107      v17      v48  0.910103\n",
       "130      v17      v93  0.887841\n",
       "174      v17     v106  0.854995\n",
       "218      v17      v44  0.818050\n",
       "243      v17     v101  0.800001"
      ]
     },
     "execution_count": 105,
     "metadata": {},
     "output_type": "execute_result"
    }
   ],
   "source": [
    "group = correlated_groups[2]\n",
    "group"
   ]
  },
  {
   "cell_type": "code",
   "execution_count": 106,
   "metadata": {},
   "outputs": [
    {
     "data": {
      "text/plain": [
       "RandomForestClassifier(bootstrap=True, class_weight=None, criterion='gini',\n",
       "            max_depth=4, max_features='auto', max_leaf_nodes=None,\n",
       "            min_impurity_split=1e-07, min_samples_leaf=1,\n",
       "            min_samples_split=2, min_weight_fraction_leaf=0.0,\n",
       "            n_estimators=200, n_jobs=1, oob_score=False, random_state=39,\n",
       "            verbose=0, warm_start=False)"
      ]
     },
     "execution_count": 106,
     "metadata": {},
     "output_type": "execute_result"
    }
   ],
   "source": [
    "from sklearn.ensemble import RandomForestClassifier\n",
    "\n",
    "features = list(group.feature2.unique())+['v17']# We will train with all the above features\n",
    "rf = RandomForestClassifier(n_estimators=200, random_state=39, max_depth=4)\n",
    "rf.fit(X_train[features].fillna(0), y_train)"
   ]
  },
  {
   "cell_type": "code",
   "execution_count": 107,
   "metadata": {},
   "outputs": [
    {
     "data": {
      "text/html": [
       "<div>\n",
       "<style scoped>\n",
       "    .dataframe tbody tr th:only-of-type {\n",
       "        vertical-align: middle;\n",
       "    }\n",
       "\n",
       "    .dataframe tbody tr th {\n",
       "        vertical-align: top;\n",
       "    }\n",
       "\n",
       "    .dataframe thead th {\n",
       "        text-align: right;\n",
       "    }\n",
       "</style>\n",
       "<table border=\"1\" class=\"dataframe\">\n",
       "  <thead>\n",
       "    <tr style=\"text-align: right;\">\n",
       "      <th></th>\n",
       "      <th>feature</th>\n",
       "      <th>importance</th>\n",
       "    </tr>\n",
       "  </thead>\n",
       "  <tbody>\n",
       "    <tr>\n",
       "      <th>2</th>\n",
       "      <td>v48</td>\n",
       "      <td>0.173981</td>\n",
       "    </tr>\n",
       "    <tr>\n",
       "      <th>3</th>\n",
       "      <td>v93</td>\n",
       "      <td>0.154484</td>\n",
       "    </tr>\n",
       "    <tr>\n",
       "      <th>6</th>\n",
       "      <td>v101</td>\n",
       "      <td>0.129764</td>\n",
       "    </tr>\n",
       "    <tr>\n",
       "      <th>1</th>\n",
       "      <td>v64</td>\n",
       "      <td>0.118110</td>\n",
       "    </tr>\n",
       "    <tr>\n",
       "      <th>7</th>\n",
       "      <td>v17</td>\n",
       "      <td>0.117571</td>\n",
       "    </tr>\n",
       "    <tr>\n",
       "      <th>4</th>\n",
       "      <td>v106</td>\n",
       "      <td>0.113958</td>\n",
       "    </tr>\n",
       "    <tr>\n",
       "      <th>0</th>\n",
       "      <td>v76</td>\n",
       "      <td>0.108071</td>\n",
       "    </tr>\n",
       "    <tr>\n",
       "      <th>5</th>\n",
       "      <td>v44</td>\n",
       "      <td>0.084062</td>\n",
       "    </tr>\n",
       "  </tbody>\n",
       "</table>\n",
       "</div>"
      ],
      "text/plain": [
       "  feature  importance\n",
       "2     v48    0.173981\n",
       "3     v93    0.154484\n",
       "6    v101    0.129764\n",
       "1     v64    0.118110\n",
       "7     v17    0.117571\n",
       "4    v106    0.113958\n",
       "0     v76    0.108071\n",
       "5     v44    0.084062"
      ]
     },
     "execution_count": 107,
     "metadata": {},
     "output_type": "execute_result"
    }
   ],
   "source": [
    "# we get the feature importance attributed by the \n",
    "# random forest model (more on this in coming lectures)\n",
    "\n",
    "importance = pd.concat(\n",
    "    [pd.Series(features),\n",
    "     pd.Series(rf.feature_importances_)], axis=1)\n",
    "\n",
    "importance.columns = ['feature', 'importance']\n",
    "importance.sort_values(by='importance', ascending=False)"
   ]
  },
  {
   "cell_type": "markdown",
   "metadata": {},
   "source": [
    "So in this case from the above feature importance we can choose v48 and drop other values"
   ]
  },
  {
   "cell_type": "code",
   "execution_count": null,
   "metadata": {
    "collapsed": true
   },
   "outputs": [],
   "source": []
  }
 ],
 "metadata": {
  "kernelspec": {
   "display_name": "Python 3",
   "language": "python",
   "name": "python3"
  },
  "language_info": {
   "codemirror_mode": {
    "name": "ipython",
    "version": 3
   },
   "file_extension": ".py",
   "mimetype": "text/x-python",
   "name": "python",
   "nbconvert_exporter": "python",
   "pygments_lexer": "ipython3",
   "version": "3.6.1"
  }
 },
 "nbformat": 4,
 "nbformat_minor": 2
}
